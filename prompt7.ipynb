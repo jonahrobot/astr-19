{
 "cells": [
  {
   "cell_type": "code",
   "execution_count": null,
   "id": "095c47f4",
   "metadata": {},
   "outputs": [],
   "source": [
    "%matplotlib inline\n",
    "import numpy as np\n",
    "import math\n",
    "import matplotlib.pyplot as plt"
   ]
  },
  {
   "cell_type": "code",
   "execution_count": null,
   "id": "66b849a2",
   "metadata": {},
   "outputs": [],
   "source": [
    "x = np.linspace(0,1,100)"
   ]
  },
  {
   "cell_type": "code",
   "execution_count": null,
   "id": "b5aba639",
   "metadata": {},
   "outputs": [],
   "source": [
    "def custom_exp(x):\n",
    "    a = []\n",
    "    for i in x:\n",
    "        a.append(math.exp(i))\n",
    "    return a;\n",
    "    "
   ]
  },
  {
   "cell_type": "code",
   "execution_count": null,
   "id": "9ad6e4c4",
   "metadata": {},
   "outputs": [],
   "source": [
    "y = custom_exp(x);"
   ]
  },
  {
   "cell_type": "code",
   "execution_count": null,
   "id": "d65dffec",
   "metadata": {},
   "outputs": [],
   "source": [
    "plt.plot(x,y)\n",
    "plt.xlabel('Time [milliseconds]')\n",
    "plt.ylabel('Awesomeness')\n",
    "plt.show()\n",
    "plt.savefig(\"Session_7.pdf\")"
   ]
  }
 ],
 "metadata": {
  "kernelspec": {
   "display_name": "Python 3 (ipykernel)",
   "language": "python",
   "name": "python3"
  },
  "language_info": {
   "codemirror_mode": {
    "name": "ipython",
    "version": 3
   },
   "file_extension": ".py",
   "mimetype": "text/x-python",
   "name": "python",
   "nbconvert_exporter": "python",
   "pygments_lexer": "ipython3",
   "version": "3.11.3"
  }
 },
 "nbformat": 4,
 "nbformat_minor": 5
}
