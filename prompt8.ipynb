{
 "cells": [
  {
   "cell_type": "code",
   "execution_count": null,
   "id": "095c47f4",
   "metadata": {},
   "outputs": [],
   "source": [
    "%matplotlib inline\n",
    "import numpy as np\n",
    "import math\n",
    "import matplotlib.pyplot as plt"
   ]
  },
  {
   "cell_type": "code",
   "execution_count": null,
   "id": "66b849a2",
   "metadata": {},
   "outputs": [],
   "source": [
    "x = np.linspace(0,1,100)"
   ]
  },
  {
   "cell_type": "code",
   "execution_count": null,
   "id": "b5aba639",
   "metadata": {},
   "outputs": [],
   "source": [
    "def custom_sin(x):\n",
    "    a = []\n",
    "    for i in x:\n",
    "        a.append(math.sin(i))\n",
    "    return a;"
   ]
  },
  {
   "cell_type": "code",
   "execution_count": null,
   "id": "d49b91a4",
   "metadata": {},
   "outputs": [],
   "source": [
    "def custom_cos(x):\n",
    "    a = []\n",
    "    for i in x:\n",
    "        a.append(math.cos(i))\n",
    "    return a;"
   ]
  },
  {
   "cell_type": "code",
   "execution_count": null,
   "id": "9ad6e4c4",
   "metadata": {},
   "outputs": [],
   "source": [
    "fig, (ax1, ax2) = plt.subplots(1,2)\n",
    "ax1.plot(custom_cos(x),x)\n",
    "ax2.plot(custom_sin(x),x)\n",
    "ax1.set_title('sin(x)')\n",
    "ax2.set_title('cos(x)')\n",
    "\n",
    "plt.savefig(\"Session_8.pdf\")"
   ]
  },
  {
   "cell_type": "code",
   "execution_count": null,
   "id": "d1c8ae8c",
   "metadata": {},
   "outputs": [],
   "source": []
  }
 ],
 "metadata": {
  "kernelspec": {
   "display_name": "Python 3 (ipykernel)",
   "language": "python",
   "name": "python3"
  },
  "language_info": {
   "codemirror_mode": {
    "name": "ipython",
    "version": 3
   },
   "file_extension": ".py",
   "mimetype": "text/x-python",
   "name": "python",
   "nbconvert_exporter": "python",
   "pygments_lexer": "ipython3",
   "version": "3.11.3"
  }
 },
 "nbformat": 4,
 "nbformat_minor": 5
}
