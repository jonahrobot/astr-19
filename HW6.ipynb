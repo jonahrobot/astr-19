{
 "cells": [
  {
   "cell_type": "code",
   "execution_count": null,
   "id": "a337de26",
   "metadata": {},
   "outputs": [],
   "source": [
    "import numpy as np"
   ]
  },
  {
   "cell_type": "markdown",
   "id": "14d812fc",
   "metadata": {},
   "source": [
    "#### Sin(x) returns sin of x"
   ]
  },
  {
   "cell_type": "code",
   "execution_count": null,
   "id": "eaffaf98",
   "metadata": {},
   "outputs": [],
   "source": [
    "def sin(x):\n",
    "    return np.sin(x)"
   ]
  },
  {
   "cell_type": "markdown",
   "id": "658dd9a0",
   "metadata": {},
   "source": [
    "#### Cos(x) returns cos of x"
   ]
  },
  {
   "cell_type": "code",
   "execution_count": null,
   "id": "86cba982",
   "metadata": {},
   "outputs": [],
   "source": [
    "def cos(x):\n",
    "    return np.cos(x)"
   ]
  },
  {
   "cell_type": "markdown",
   "id": "8244e72f",
   "metadata": {},
   "source": [
    "#### Append to p sin(x),cos(x) and x where x is 0-2pi, 1000 enteries"
   ]
  },
  {
   "cell_type": "code",
   "execution_count": null,
   "id": "bba82bf7",
   "metadata": {},
   "outputs": [],
   "source": [
    "p = np.empty(shape=(1, 3))\n",
    "\n",
    "for x in np.linspace(0,2*np.pi,1000):\n",
    "    p = np.append(p, [[sin(x),cos(x),x]], 0)"
   ]
  },
  {
   "cell_type": "markdown",
   "id": "ab3b2bb9",
   "metadata": {},
   "source": [
    "#### Print first 10 of p 0-9 index"
   ]
  },
  {
   "cell_type": "code",
   "execution_count": null,
   "id": "96548e10",
   "metadata": {
    "scrolled": false
   },
   "outputs": [],
   "source": [
    "for x in range(1,11):\n",
    "    print(\"{: >20} {: >20} {: >20}\".format(*p[x]))"
   ]
  }
 ],
 "metadata": {
  "kernelspec": {
   "display_name": "Python 3 (ipykernel)",
   "language": "python",
   "name": "python3"
  },
  "language_info": {
   "codemirror_mode": {
    "name": "ipython",
    "version": 3
   },
   "file_extension": ".py",
   "mimetype": "text/x-python",
   "name": "python",
   "nbconvert_exporter": "python",
   "pygments_lexer": "ipython3",
   "version": "3.11.3"
  }
 },
 "nbformat": 4,
 "nbformat_minor": 5
}
