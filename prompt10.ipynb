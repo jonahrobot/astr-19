{
 "cells": [
  {
   "cell_type": "code",
   "execution_count": null,
   "id": "095c47f4",
   "metadata": {},
   "outputs": [],
   "source": [
    "%matplotlib inline\n",
    "import numpy as np\n",
    "import math\n",
    "import matplotlib.pyplot as plt"
   ]
  },
  {
   "cell_type": "code",
   "execution_count": null,
   "id": "66b849a2",
   "metadata": {},
   "outputs": [],
   "source": [
    "x = np.random.vonmises(0,1,1000)"
   ]
  },
  {
   "cell_type": "code",
   "execution_count": null,
   "id": "9ad6e4c4",
   "metadata": {},
   "outputs": [],
   "source": [
    "plt.hist(x, bins=100)\n",
    "\n",
    "plt.xlabel(\"Random distribution Von Mises\")\n",
    "plt.ylabel(\"Total number of repeats\")\n",
    "\n",
    "plt.savefig(\"Session_10.pdf\")"
   ]
  },
  {
   "cell_type": "code",
   "execution_count": null,
   "id": "2a5503ce",
   "metadata": {},
   "outputs": [],
   "source": []
  }
 ],
 "metadata": {
  "kernelspec": {
   "display_name": "Python 3 (ipykernel)",
   "language": "python",
   "name": "python3"
  },
  "language_info": {
   "codemirror_mode": {
    "name": "ipython",
    "version": 3
   },
   "file_extension": ".py",
   "mimetype": "text/x-python",
   "name": "python",
   "nbconvert_exporter": "python",
   "pygments_lexer": "ipython3",
   "version": "3.11.3"
  }
 },
 "nbformat": 4,
 "nbformat_minor": 5
}
